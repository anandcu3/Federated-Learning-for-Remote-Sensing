{
 "cells": [
  {
   "cell_type": "code",
   "execution_count": 1,
   "metadata": {},
   "outputs": [],
   "source": [
    "from cnn_nets import LENET, RESNET34\n",
    "from custom_dataloader import load_split_train_test, uncor_selecter\n",
    "from train import train_model\n",
    "from federated_train_algorithms import train_fedavg_model\n",
    "from pathlib import Path\n",
    "import numpy as np \n",
    "import pandas as pd\n",
    "import torch.nn as nn\n",
    "import torch.optim as optim\n",
    "import torch"
   ]
  },
  {
   "cell_type": "code",
   "execution_count": 2,
   "metadata": {},
   "outputs": [],
   "source": [
    "df = pd.read_excel (Path('multilabels/LandUse_Multilabeled.xlsx').resolve())\n",
    "df_label = np.array(df)\n",
    "device = torch.device(\"cuda:0\" if torch.cuda.is_available() else \"cpu\")\n",
    "class_names =  np.array([\"airplane\",\"bare-soil\",\"buildings\",\"cars\",\"chaparral\",\"court\",\"dock\",\"field\",\"grass\",\"mobile-home\",\"pavement\",\"sand\",\"sea\",\"ship\",\"tanks\",\"trees\",\"water\"])"
   ]
  },
  {
   "cell_type": "code",
   "execution_count": 3,
   "metadata": {},
   "outputs": [
    {
     "data": {
      "image/png": "[encoded data removed]",
      "text/plain": [
       "<Figure size 432x288 with 1 Axes>"
      ]
     },
     "metadata": {
      "needs_background": "light"
     },
     "output_type": "display_data"
    }
   ],
   "source": [
    "from matplotlib import pyplot as plt\n",
    "from scipy.cluster.hierarchy import dendrogram\n",
    "from sklearn.cluster import AgglomerativeClustering\n",
    "\n",
    "\n",
    "def plot_dendrogram(model, **kwargs):\n",
    "    # Create linkage matrix and then plot the dendrogram\n",
    "\n",
    "    # create the counts of samples under each node\n",
    "    counts = np.zeros(model.children_.shape[0])\n",
    "    n_samples = len(model.labels_)\n",
    "    for i, merge in enumerate(model.children_):\n",
    "        current_count = 0\n",
    "        for child_idx in merge:\n",
    "            if child_idx < n_samples:\n",
    "                current_count += 1  # leaf node\n",
    "            else:\n",
    "                current_count += counts[child_idx - n_samples]\n",
    "        counts[i] = current_count\n",
    "\n",
    "    linkage_matrix = np.column_stack([model.children_, model.distances_,\n",
    "                                      counts]).astype(float)\n",
    "\n",
    "    # Plot the corresponding dendrogram\n",
    "    dendrogram(linkage_matrix, **kwargs)\n",
    "\n",
    "\n",
    "X = df_label[:,1:]\n",
    "\n",
    "# setting distance_threshold=0 ensures we compute the full tree.\n",
    "model = AgglomerativeClustering(distance_threshold=0, n_clusters=None)\n",
    "\n",
    "model = model.fit(X)\n",
    "plt.title('Hierarchical Clustering Dendrogram')\n",
    "# plot the top three levels of the dendrogram\n",
    "plot_dendrogram(model, truncate_mode='level', p=3)\n",
    "plt.xlabel(\"Number of points in node (or index of point if no parenthesis).\")\n",
    "plt.show()"
   ]
  },
  {
   "cell_type": "code",
   "execution_count": 4,
   "metadata": {},
   "outputs": [
    {
     "name": "stdout",
     "output_type": "stream",
     "text": [
      "674 bare-soil cars (2, 4)\n"
     ]
    }
   ],
   "source": [
    "largestxor = 0 \n",
    "largestij = (0,0)\n",
    "\n",
    "for i in range(1,17):\n",
    "    for j in range(i+1,18):\n",
    "        #colnand = np.sum(np.logical_not(np.logical_and(df_label[:,i], df_label[:,j])))\n",
    "        colxor = np.sum(np.logical_xor(df_label[:,i].astype(bool) , df_label[:,j].astype(bool) )) -  np.sum(np.logical_and(df_label[:,i], df_label[:,j]))\n",
    "        #print(i,j, colxor, colnand)\n",
    "        if colxor >= largestxor and np.sum(df_label[:,i]) >=700 and np.sum(df_label[:,j])>= 700 :\n",
    "            largestxor = colxor\n",
    "            largestij = (i,j)\n",
    "print(largestxor,class_names[largestij[0]-1], class_names[largestij[1]-1], largestij)"
   ]
  },
  {
   "cell_type": "code",
   "execution_count": 3,
   "metadata": {},
   "outputs": [
    {
     "name": "stdout",
     "output_type": "stream",
     "text": [
      "[ 1  2  3  8 10 15] [718 691 886 975 1300 1009]\n",
      "<class 'list'> [1, 2, 3]\n",
      "2100\n",
      "[ 1  2  3  8 10 15] [718 691 886 975 1300 1009]\n",
      "549\n",
      "525\n",
      "606\n"
     ]
    }
   ],
   "source": [
    "trylist = uncor_selecter(df_label, 3, 300)\n",
    "print(type(trylist), trylist)\n",
    "data_dir = Path('./UCMerced_LandUse/Images').resolve()\n",
    "trainloaders, valloader  = load_split_train_test(data_dir, df_label,.2)"
   ]
  },
  {
   "cell_type": "code",
   "execution_count": 4,
   "metadata": {},
   "outputs": [],
   "source": [
    "model = LENET(len(class_names))"
   ]
  },
  {
   "cell_type": "code",
   "execution_count": 4,
   "metadata": {},
   "outputs": [],
   "source": [
    "model = RESNET34(len(class_names))"
   ]
  },
  {
   "cell_type": "code",
   "execution_count": 5,
   "metadata": {},
   "outputs": [],
   "source": [
    "model = model.to(device)\n",
    "criterion = nn.BCEWithLogitsLoss()\n",
    "optimizer_ft = optim.SGD(model.parameters(), lr=0.001, momentum=0.9)\n",
    "exp_lr_scheduler = optim.lr_scheduler.StepLR(optimizer_ft, step_size=7, gamma=0.1)"
   ]
  },
  {
   "cell_type": "code",
   "execution_count": 6,
   "metadata": {},
   "outputs": [
    {
     "name": "stdout",
     "output_type": "stream",
     "text": [
      "Running epoch numero 0\n",
      "Epoch 0/0\n",
      "----------\n",
      "train Loss: 0.1818 Acc: 0.1304\n",
      "Training complete in 0m 2s\n",
      "Done with clientelo numero whateva [[0.18178490309488204], [0.1304201680672269], [], []]\n",
      "Epoch 0/0\n",
      "----------\n",
      "train Loss: 0.1739 Acc: 0.1196\n",
      "Training complete in 0m 2s\n",
      "Done with clientelo numero whateva [[0.17393385821864718], [0.11955182072829125], [], []]\n",
      "Epoch 0/0\n",
      "----------\n",
      "train Loss: 0.2012 Acc: 0.1357\n",
      "Training complete in 0m 2s\n",
      "Done with clientelo numero whateva [[0.20119325785409836], [0.13574229691876744], [], []]\n",
      "Epoch 0/0\n",
      "----------\n",
      "val Loss: 0.1391 Acc: 0.0980\n",
      "Training complete in 0m 1s\n",
      "Done with validation [[], [], [0.1391283679008484], [0.09801120448179267]]\n"
     ]
    }
   ],
   "source": [
    "C_FRACTION = 0.7\n",
    "model = train_fedavg_model(model, device, trainloaders, valloader, optimizer_ft, criterion, exp_lr_scheduler, C_FRACTION, len(class_names), epochs=1)"
   ]
  },
  {
   "cell_type": "code",
   "execution_count": null,
   "metadata": {},
   "outputs": [],
   "source": []
  }
 ],
 "metadata": {
  "kernelspec": {
   "display_name": "Python 3",
   "language": "python",
   "name": "python3"
  },
  "language_info": {
   "codemirror_mode": {
    "name": "ipython",
    "version": 3
   },
   "file_extension": ".py",
   "mimetype": "text/x-python",
   "name": "python",
   "nbconvert_exporter": "python",
   "pygments_lexer": "ipython3",
   "version": "3.8.5"
  }
 },
 "nbformat": 4,
 "nbformat_minor": 4
}
